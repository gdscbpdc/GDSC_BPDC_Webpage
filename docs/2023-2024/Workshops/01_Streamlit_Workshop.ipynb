{
  "cells": [
    {
      "cell_type": "markdown",
      "metadata": {
        "id": "cuM0ysP8qEGa"
      },
      "source": [
        "# **Intro to Streamlit** 💻\n",
        "* ## Streamlit is an open-source Python library.\n",
        "* ## It's designed for creating web applications with minimal code.\n",
        "* ## Ideal for data scientists, engineers, and anyone who wants to share data and insights in an interactive way."
      ]
    },
    {
      "cell_type": "markdown",
      "metadata": {
        "id": "tTr-aqjQ33b1"
      },
      "source": [
        "\n",
        "# **Why Streamlit?** 🤔\n",
        "* ## Streamlit simplifies web app development.\n",
        "* ## No need for HTML, CSS, or JavaScript.\n",
        "* ## Great for prototyping, data visualization, and sharing insights."
      ]
    },
    {
      "cell_type": "markdown",
      "metadata": {
        "id": "u7zsiZB-35bg"
      },
      "source": [
        "# **Workshop Goals** 🚀\n",
        "## By the end of this workshop, you will:\n",
        "* ### Understand the basics of Streamlit.\n",
        "* ### Create a simple Streamlit app.\n",
        "* ### Learn how to use widgets.\n",
        "* ### See examples of data visualization.\n",
        "* ### Discover deployment options."
      ]
    },
    {
      "cell_type": "markdown",
      "metadata": {
        "id": "apDIbiVJ4yGC"
      },
      "source": [
        "# Installation and Set-up ⭐\n",
        "\n",
        "## Run the 'pip install' command on your Google Collab\n",
        "```\n",
        "!pip install -q streamlit\n",
        "```\n",
        "\n",
        "#### * '-q' stands for \"quiet\" mode, which means it won't display progress or other information while downloading."
      ]
    },
    {
      "cell_type": "code",
      "execution_count": null,
      "metadata": {
        "id": "6pdip1VV5_TJ"
      },
      "outputs": [],
      "source": [
        "!pip install -q streamlit"
      ]
    },
    {
      "cell_type": "markdown",
      "metadata": {
        "id": "W30GZcKS5TGJ"
      },
      "source": [
        "# Your first Streamlit App 😀\n",
        "\n",
        "### Create a Python file:\n",
        "### We use the ***writefile*** funtion to create a Python file called ***app.py***\n",
        "```\n",
        "%%writefile app.py\n",
        "\n",
        "import streamlit as st\n",
        "st.title('Hello *World!* :sunglasses:')\n",
        "```"
      ]
    },
    {
      "cell_type": "code",
      "execution_count": null,
      "metadata": {
        "colab": {
          "base_uri": "https://localhost:8080/"
        },
        "id": "GoQxJTaT6CMo",
        "outputId": "a0499762-765c-439e-950a-9b33d587ca40"
      },
      "outputs": [
        {
          "name": "stdout",
          "output_type": "stream",
          "text": [
            "Overwriting app.py\n"
          ]
        }
      ],
      "source": [
        "%%writefile app.py\n",
        "\n",
        "import streamlit as st\n",
        "\n",
        "st.title('Hello *World!* :sunglasses:')"
      ]
    },
    {
      "cell_type": "markdown",
      "metadata": {
        "id": "I4TjPvRYcLfw"
      },
      "source": []
    },
    {
      "cell_type": "markdown",
      "metadata": {
        "id": "MCNI6NDV5yg3"
      },
      "source": [
        "# How to run the project? 🏃\n",
        "\n",
        "The following command retrieves and displays your public ***IPv4 address***. We need it to access the public URL.\n",
        "```\n",
        "!wget -q -O - ipv4.icanhazip.com\n",
        "```\n",
        "\n",
        "The following command runs a ***Streamlit web app*** locally and creates a public internet-accessible link for it\n",
        "```\n",
        "! streamlit run app.py & npx localtunnel --port 8501\n",
        "```"
      ]
    },
    {
      "cell_type": "code",
      "execution_count": null,
      "metadata": {
        "colab": {
          "background_save": true,
          "base_uri": "https://localhost:8080/"
        },
        "id": "XkDN0kI86dDK",
        "outputId": "f549461b-cd04-4aa4-d255-77f67d33c2a3"
      },
      "outputs": [
        {
          "name": "stdout",
          "output_type": "stream",
          "text": [
            "34.86.89.52\n",
            "[..................] \\ fetchMetadata: sill resolveWithNewModule yargs@17.1.1 ch\u001b[0m\u001b[K\n",
            "Collecting usage statistics. To deactivate, set browser.gatherUsageStats to False.\n",
            "\u001b[0m\n",
            "\u001b[0m\n",
            "\u001b[34m\u001b[1m  You can now view your Streamlit app in your browser.\u001b[0m\n",
            "\u001b[0m\n",
            "\u001b[34m  Network URL: \u001b[0m\u001b[1mhttp://172.28.0.12:8501\u001b[0m\n",
            "\u001b[34m  External URL: \u001b[0m\u001b[1mhttp://34.86.89.52:8501\u001b[0m\n",
            "\u001b[0m\n",
            "\u001b[K\u001b[?25hnpx: installed 22 in 3.678s\n",
            "your url is: https://eight-lions-give.loca.lt\n",
            "2023-09-26 08:09:45.286 Uncaught app exception\n",
            "Traceback (most recent call last):\n",
            "  File \"/usr/local/lib/python3.10/dist-packages/streamlit/runtime/scriptrunner/script_runner.py\", line 541, in _run_script\n",
            "    exec(code, module.__dict__)\n",
            "  File \"/content/app.py\", line 12, in <module>\n",
            "    result = float(num1) + float(num2)\n",
            "ValueError: could not convert string to float: ''\n"
          ]
        }
      ],
      "source": [
        "!wget -q -O - ipv4.icanhazip.com\n",
        "! streamlit run app.py & npx localtunnel --port 8501"
      ]
    },
    {
      "cell_type": "markdown",
      "metadata": {
        "id": "CNKuucx-_Q2u"
      },
      "source": [
        "# Official Streamlit Documentaion 📖\n",
        "\n",
        "[docs.streamlit.io](https://docs.streamlit.io/)"
      ]
    },
    {
      "cell_type": "markdown",
      "metadata": {
        "id": "8vDMnYuy92JH"
      },
      "source": [
        "# Let's take a look at some basic widgets 👀\n",
        "\n",
        "### In this section of the workshop, we will dive into the world of Streamlit widgets. Widgets are essential components that allow you to collect user input, making your Streamlit apps interactive and user-friendly. We'll explore various widgets such as text inputs, sliders, buttons, and more. To demonstrate their usage, we'll build a basic interactive app—a simple calculator.\n",
        "\n"
      ]
    },
    {
      "cell_type": "markdown",
      "metadata": {
        "id": "hWWr-Ci8ACtn"
      },
      "source": [
        "## 1. Text Inputs: ⌨\n",
        "Streamlit provides a straightforward way to collect text input from users.\n",
        "The primary widget for this purpose is 'st.text_input'. Let's see how it works:\n",
        "\n",
        "```python\n",
        "user_input = st.text_input(\"Enter your name:\")\n",
        "st.write(\"Hello,\", user_input)\n",
        "```\n",
        "\n",
        "In this example, we create a text input widget with a label, \"Enter your name.\" The user's input is then displayed using st.write."
      ]
    },
    {
      "cell_type": "markdown",
      "metadata": {
        "id": "x9v-tnceAE0d"
      },
      "source": [
        "## 2. Sliders: ◀ ▶\n",
        "\n",
        "Sliders are useful for selecting numerical values within a specified range. Streamlit's 'st.slider' widget makes it easy to incorporate them into your apps:\n",
        "\n",
        "```python\n",
        "age = st.slider(\"Select your age:\", 0, 100, 25) # (Min, Max, Start)\n",
        "st.write(\"You are\", age, \"years old.\")\n",
        "```\n",
        "\n",
        "Here, we create a slider for selecting the user's age, with a range from 0 to 100."
      ]
    },
    {
      "cell_type": "markdown",
      "metadata": {
        "id": "BSbbf3JhEAIa"
      },
      "source": [
        "## 3. Buttons: ⏯\n",
        "\n",
        "Buttons allow users to trigger actions. Streamlit's 'st.button' widget enables us to add buttons to our apps:\n",
        "\n",
        "```python\n",
        "if st.button(\"Click me 🐣\"):\n",
        "    st.write(\"Peeka-Boo 👻\") #  '+ user_input'\n",
        "```\n",
        "\n",
        "This code displays a button labeled \"Click me.\" When clicked, it writes text to the app."
      ]
    },
    {
      "cell_type": "markdown",
      "metadata": {
        "id": "PiMlNzioF-B7"
      },
      "source": [
        "## A Simple Calculator: 🔢\n",
        "\n",
        "Now, let's put these widgets together to create a basic interactive app—a simple calculator. We'll use text inputs for numbers, radio buttons for selecting an operation, and a button to calculate the result.\n",
        "\n",
        "```python\n",
        "# Take user input\n",
        "num1 = st.text_input(\"Enter the first number:\")\n",
        "num2 = st.text_input(\"Enter the second number:\")\n",
        "operation = st.radio(\"Select an operation:\", (\"Add\", \"Subtract\", \"Multiply\", \"Divide\"))\n",
        "\n",
        "# if (num1!=\"\" and num2!=\"\"):\n",
        "\n",
        "# Perform the calculation\n",
        "if st.button(\"Calculate\"):\n",
        "    if operation == \"Add\":\n",
        "        result = float(num1) + float(num2)\n",
        "    elif operation == \"Subtract\":\n",
        "        result = float(num1) - float(num2)\n",
        "    elif operation == \"Multiply\":\n",
        "        result = float(num1) * float(num2)\n",
        "    elif operation == \"Divide\":\n",
        "        result = float(num1) / float(num2)\n",
        "    st.write(\"Result:\", result)\n",
        "```\n",
        "\n",
        "With this code, users can input two numbers, choose an operation, and then calculate the result by clicking the \"Calculate\" button."
      ]
    },
    {
      "cell_type": "markdown",
      "metadata": {
        "id": "FGJKrA1CGv0e"
      },
      "source": [
        "# Data Visualisation: 📊\n",
        "\n",
        "### In this section of the workshop, we'll explore how to integrate data visualization libraries, such as Plotly, with Streamlit. Visualizing data is a crucial aspect of data science and analysis, and Streamlit makes it easy to create interactive charts and graphs in your web apps."
      ]
    },
    {
      "cell_type": "markdown",
      "metadata": {
        "id": "LDx__e7FJJy7"
      },
      "source": [
        "## Installing Plotly: ⭐\n",
        "\n",
        "```\n",
        "!pip install -q plotly\n",
        "```\n",
        "\n",
        "Streamlit seamlessly integrates with popular data visualization libraries like Plotly, Matplotlib, and Altair. These libraries allow you to create various types of charts, graphs, and plots. For this section, we'll focus on using Plotly, a powerful and interactive plotting library."
      ]
    },
    {
      "cell_type": "code",
      "execution_count": null,
      "metadata": {
        "id": "Eu341GByJVq9"
      },
      "outputs": [],
      "source": [
        "!pip install -q plotly"
      ]
    },
    {
      "cell_type": "markdown",
      "metadata": {
        "id": "ApeLDGZRJrZU"
      },
      "source": [
        "## Creating Intractive Chart: 📈\n",
        "\n",
        "Let's build a Streamlit app that displays an interactive Plotly chart. In this example, we'll create a simple line chart:\n",
        "\n",
        "```python\n",
        "import streamlit as st\n",
        "import plotly.express as px\n",
        "\n",
        "# Sample data\n",
        "data = {\n",
        "    'Time': [1, 2, 3, 4, 5], # 'Month': ['Jan', 'Feb', ...]\n",
        "    'Value': [10, 16, 5, 11, 8] # 'Sales': [12000, 15000, ...]\n",
        "}\n",
        "\n",
        "# Create a Plotly figure\n",
        "fig = px.line(data, x='Time', y='Value', title='Sample Line Chart') # x='Month', y='Sales', title='Monthly Sales Trend'\n",
        "\n",
        "# Display the chart in Streamlit\n",
        "st.plotly_chart(fig)\n",
        "```\n",
        "\n",
        "In this code, we import Streamlit and Plotly Express,  define sample data as a dictionary, then create a Plotly line chart using Plotly Express and finally use 'st.plotly_chart' to display the chart in our Streamlit app.\n",
        "\n"
      ]
    },
    {
      "cell_type": "markdown",
      "metadata": {
        "id": "iim3yzFzKEMm"
      },
      "source": [
        "# Customizing the Layout: 🧠\n",
        "\n",
        "### In this section of the workshop, we'll explore how to customize the layout of your Streamlit apps. You can use Markdown and HTML to format text and create structured content. Additionally, Streamlit provides tools like columns and widgets for organizing your app's interface effectively."
      ]
    },
    {
      "cell_type": "markdown",
      "metadata": {
        "id": "VQjqd-ZGNhB3"
      },
      "source": [
        "## Using Markdown and HTML:\n",
        "\n",
        "### Streamlit allows you to use Markdown and even HTML to format text and create structured content within your app.\n",
        "\n",
        "## Markdown Example:\n",
        "```python\n",
        "import streamlit as st\n",
        "\n",
        "# Markdown\n",
        "st.markdown(\"# This is a Heading\")\n",
        "st.markdown(\"## This is a Subheading\")\n",
        "st.markdown(\"This is a paragraph of text with **bold** and *italic* formatting.\")\n",
        "```\n",
        "\n",
        "## HTML Example:\n",
        "```python\n",
        "import streamlit as st\n",
        "\n",
        "# HTML\n",
        "st.write(\"<h1>This is an HTML Heading</h1>\", unsafe_allow_html=True)\n",
        "st.write(\"<p>This is a paragraph of text with <strong>bold</strong> and <em>italic</em> formatting.</p>\", unsafe_allow_html=True)\n",
        "```\n",
        "\n",
        "You can use Markdown for basic formatting and HTML for more advanced customization when needed. Just remember to set 'unsafe_allow_html=True' to allow rendering HTML in Streamlit."
      ]
    },
    {
      "cell_type": "markdown",
      "metadata": {
        "id": "d_vH9y1J4bNQ"
      },
      "source": [
        "## Organising with Columns:\n",
        "\n",
        "### Columns are a powerful way to organize your app's layout. You can use 'st.columns()' to create multiple columns and distribute content accordingly. Here's an example:\n",
        "\n",
        "```python\n",
        "import streamlit as st\n",
        "\n",
        "# Create two columns\n",
        "col1, col2 = st.columns(2)\n",
        "\n",
        "# Add content to each column\n",
        "with col1:\n",
        "    st.header(\"Column 1\")\n",
        "    st.write(\"This is the left column.\")\n",
        "\n",
        "with col2:\n",
        "    st.header(\"Column 2\")\n",
        "    st.write(\"This is the right column.\")\n",
        "```"
      ]
    },
    {
      "cell_type": "markdown",
      "metadata": {
        "id": "AHvfEFOP46cN"
      },
      "source": [
        "## Widgets for Better Organization:\n",
        "\n",
        "### Widgets can be used for interactive elements and better organization. You can group related widgets together and use them to collect user input effectively.\n",
        "### (ex: Registration Form)\n",
        "\n",
        "```python\n",
        "import streamlit as st\n",
        "\n",
        "# Create a widget group\n",
        "with st.expander(\"Click to expand\"):\n",
        "    st.write(\"This content is hidden by default.\")\n",
        "    name = st.text_input(\"Enter your name:\")\n",
        "    age = st.slider(\"Select your age:\", 0, 100, 25)\n",
        "    submit_button = st.button(\"Submit\")\n",
        "\n",
        "# Perform actions based on user input\n",
        "if submit_button:\n",
        "    st.write(f\"Hello, {name}! You are {age} years old.\")\n",
        "```\n",
        "\n",
        "### In this example:\n",
        "We use 'st.expander' to create an expandable widget group.\n",
        "Inside the group, we add text input, slider, and button widgets.\n",
        "The content is hidden until the user clicks to expand it."
      ]
    },
    {
      "cell_type": "markdown",
      "metadata": {
        "id": "HGkAWXs45-bp"
      },
      "source": [
        "# Deploying Streamlit Apps: ☁\n",
        "\n",
        "### In this section of the workshop, we'll discuss the essential topic of deploying your Streamlit apps so that they can be accessed by others. Deploying your app makes it accessible over the internet, allowing you to share your work with a broader audience or colleagues. We'll briefly explore deployment options, focusing on one of the popular methods—Streamlit Sharing Cloud.\n"
      ]
    },
    {
      "cell_type": "markdown",
      "metadata": {
        "id": "dHDGiNIk9q4P"
      },
      "source": [
        "## 1. Make an account if you dont already have one:\n",
        "### [GitHub Website](https://github.com/)\n",
        "\n",
        "## 2. Create a new Public Repository.\n",
        "\n",
        "## 3. Create an 'app.py' containing the main code for the website.\n",
        "\n",
        "## 4. Create a 'requirements.txt' containing all the dependencies.\n",
        "\n",
        "### Use the following command to get the version of the installed package:\n",
        "```\n",
        "!pip show streamlit\n",
        "```\n",
        "\n",
        "### Add the package to the 'requirements.txt' in the following format:\n",
        "```\n",
        "streamlit==1.27.0\n",
        "```\n",
        "\n",
        "## 5. Connect Streamlit Cloud and your GitHub:\n",
        "### [Streamlit Cloud](https://streamlit.io/cloud)\n",
        "\n",
        "## 6. Select your Public Repo to Host, and Select the appropriate branch and the Main Code file.\n",
        "\n",
        "## 7. Press 'DEPLOY' and watch the Magic happen 🌟\n"
      ]
    },
    {
      "cell_type": "code",
      "execution_count": null,
      "metadata": {
        "id": "vjd2vrKk-8h5"
      },
      "outputs": [],
      "source": [
        "!pip show streamlit"
      ]
    },
    {
      "cell_type": "markdown",
      "metadata": {
        "id": "m45Yn92v7O0i"
      },
      "source": [
        "# Do it Yourself 💪\n",
        "\n",
        "In this optional part of the workshop, we'll provide you with a hands-on exercise to apply what you've learned about Streamlit. This exercise will give you the opportunity to create a small Streamlit app from scratch. If you have any questions or need assistance during the exercise, please feel free to ask for help."
      ]
    },
    {
      "cell_type": "markdown",
      "metadata": {
        "id": "q9qzskGpAn60"
      },
      "source": [
        "## Exercise:\n",
        "\n",
        "### **Objective:** Create a Streamlit app that takes user input for a simple task and provides a response.\n",
        "\n",
        "### **Task:** Build a basic to-do list app. Users should be able to enter a task, click a button to add it to the list, and see their tasks displayed."
      ]
    },
    {
      "cell_type": "markdown",
      "metadata": {
        "id": "8raGpXUUCrro"
      },
      "source": [
        "## Hints: 🔎\n",
        "* ### Use st.text_input to collect task input from the user.\n",
        "* ### Create a button using st.button to add tasks to the list.\n",
        "* ### Use a list to keep track of tasks.\n",
        "* ### Use 'st.session_state' to store the tasks (refer the streamlit docs: [Session State Docs](https://docs.streamlit.io/library/api-reference/session-state))\n",
        "* ### Display the tasks in the Streamlit app using st.write or a more structured layout if you prefer.\n",
        "\n",
        "### Sample Code:\n",
        "\n",
        "```python\n",
        "import streamlit as st\n",
        "\n",
        "# Create an empty list to store tasks\n",
        "tasks = []\n",
        "# See the difference between a normal variable and session_state variable.\n",
        "\n",
        "# Collect task input from the user\n",
        "task_input = st.text_input(\"Enter a task:\")\n",
        "\n",
        "# Add task to the list when the button is clicked\n",
        "if st.button(\"Add Task\"):\n",
        "    tasks.append(task_input)\n",
        "\n",
        "# Display the list of tasks\n",
        "st.write(\"Tasks:\")\n",
        "for i, task in enumerate(tasks):\n",
        "    st.write(f\"{i + 1}. {task}\")\n",
        "```"
      ]
    },
    {
      "cell_type": "markdown",
      "metadata": {
        "id": "TAVIPpVWC27f"
      },
      "source": [
        "# Answer: ✅\n",
        "\n",
        "```python\n",
        "import streamlit as st\n",
        "\n",
        "# Title\n",
        "st.title(\"To-Do List\")\n",
        "\n",
        "# Input field for task\n",
        "task = st.text_input(\"Enter a new task:\")\n",
        "\n",
        "# Button to add task\n",
        "if st.button(\"Add Task\"):\n",
        "    if task:\n",
        "        st.write(f\"Added: {task}\")\n",
        "\n",
        "# List to display tasks\n",
        "task_list = st.empty()\n",
        "\n",
        "# Initialize task list\n",
        "if 'tasks' not in st.session_state:\n",
        "    st.session_state.tasks = []\n",
        "\n",
        "# Add task to the list\n",
        "if task:\n",
        "    st.session_state.tasks.append(task)\n",
        "\n",
        "# Display tasks\n",
        "if st.session_state.tasks:\n",
        "    task_list.write(\"## Tasks:\")\n",
        "    for i, t in enumerate(st.session_state.tasks):\n",
        "        task_list.write(f\"{i+1}. {t}\")\n",
        "\n",
        "# Checkbox to clear tasks\n",
        "if st.checkbox(\"Clear Tasks\"):\n",
        "    st.session_state.tasks = []\n",
        "```\n",
        "\n",
        "##  What the Code does:\n",
        "* It creates a Streamlit app titled \"To-Do List.\"\n",
        "* It provides an input field for entering a new task.\n",
        "* When the \"Add Task\" button is clicked, it adds the task to a list if it's not empty.\n",
        "* It uses the st.empty() element to reserve a spot for displaying tasks.\n",
        "* It initializes an empty list to store tasks in the Streamlit session state.\n",
        "* It adds tasks to the session state list when the \"Add Task\" button is clicked.\n",
        "* It displays the list of tasks using a loop.\n",
        "* It provides a \"Clear Tasks\" checkbox to clear all tasks.\n",
        "\n",
        "This code provides a simple to-do list that allows you to add tasks and clear them as needed. You can expand upon this basic example to add more features and functionality to your to-do list app.\n"
      ]
    },
    {
      "cell_type": "markdown",
      "metadata": {
        "id": "JF6-JwMuEhc1"
      },
      "source": [
        "# Thank-you Everyone ! 🎉🎉🎉"
      ]
    },
    {
      "cell_type": "markdown",
      "metadata": {
        "id": "n5rvx9_TEssp"
      },
      "source": []
    }
  ],
  "metadata": {
    "colab": {
      "provenance": []
    },
    "kernelspec": {
      "display_name": "Python 3",
      "name": "python3"
    },
    "language_info": {
      "name": "python"
    }
  },
  "nbformat": 4,
  "nbformat_minor": 0
}