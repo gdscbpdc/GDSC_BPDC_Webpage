{
  "cells": [
    {
      "cell_type": "markdown",
      "metadata": {
        "id": "oCv4klG24pJy"
      },
      "source": [
        "# Hugging Face 🤗"
      ]
    },
    {
      "cell_type": "markdown",
      "metadata": {
        "id": "taxFrXG84skC"
      },
      "source": [
        "## What is Hugging Face? 🤔"
      ]
    },
    {
      "cell_type": "markdown",
      "metadata": {
        "id": "LZd6E7fz45tU"
      },
      "source": [
        "\n",
        "\n",
        "* An open-source organization founded in 2016\n",
        "* Revolves around developing tools and resources for natural language processing and machine learning tasks.\n",
        "* Over 350k models, 75k datasets, and 150k demo apps.\n",
        "* \"Hugging Face is to machine learning what github is to software engineering\"\n",
        "\n"
      ]
    },
    {
      "cell_type": "markdown",
      "metadata": {
        "id": "7F8-1voI4wvY"
      },
      "source": [
        "## Why Hugging Face? 😎"
      ]
    },
    {
      "cell_type": "markdown",
      "metadata": {
        "id": "rTRsunLX7R_k"
      },
      "source": [
        "\n",
        "* Easy-to-use APIs and pipelines\n",
        "* Tons of pre-trained models\n",
        "* Ability to fine tune models to suit your purpose\n",
        "* Organizations such as Google, Microsoft, AWS, Nvidia, Facebook and many more are using Hugging Face\n"
      ]
    },
    {
      "cell_type": "markdown",
      "metadata": {
        "id": "SWB69RweqYMU"
      },
      "source": [
        "# Let's get started! 🚀"
      ]
    },
    {
      "cell_type": "markdown",
      "metadata": {
        "id": "qZ5e-dOKqu4h"
      },
      "source": [
        "Website link - https://huggingface.co"
      ]
    },
    {
      "cell_type": "markdown",
      "metadata": {
        "id": "-AGc-X3Zy3ns"
      },
      "source": [
        "### Models (https://huggingface.co/models)\n",
        "Collection of 'state-of-the-art pretrained' models for NLP, vision, audio and many more tasks"
      ]
    },
    {
      "cell_type": "markdown",
      "metadata": {
        "id": "bAQrPPZ-y32D"
      },
      "source": [
        "### Datasets (https://huggingface.co/datasets)\n",
        "Thousands of datasets in more than 100 languages, each dedicated for numerous ML tasks"
      ]
    },
    {
      "cell_type": "markdown",
      "metadata": {
        "id": "d53v4fDgy38h"
      },
      "source": [
        "### Spaces (https://huggingface.co/spaces)\n",
        "A simple way to host ML demo apps on the HuggingFace Hub. Users can create demos using Gradio, Streamlit or even HTML/CSS/JS."
      ]
    },
    {
      "cell_type": "markdown",
      "metadata": {
        "id": "vGWqOu93txab"
      },
      "source": [
        "# Enough theory! Time to build something 🛠"
      ]
    },
    {
      "cell_type": "markdown",
      "metadata": {
        "id": "XwobnVCjMkpH"
      },
      "source": [
        "## Transformers"
      ]
    },
    {
      "cell_type": "markdown",
      "metadata": {
        "id": "6EZn2rODNDqV"
      },
      "source": [
        "<img src=\"https://i.imgur.com/g5GVzsh.gif\" title=\"source: imgur.com\" />"
      ]
    },
    {
      "cell_type": "code",
      "execution_count": null,
      "metadata": {
        "id": "WAigbz8lxyMr"
      },
      "outputs": [],
      "source": [
        "!pip install -q transformers"
      ]
    },
    {
      "cell_type": "markdown",
      "metadata": {
        "id": "26QbXbIKFkQh"
      },
      "source": [
        "> Transformers is a library which provides tools and API for accessing pre trained models."
      ]
    },
    {
      "cell_type": "markdown",
      "metadata": {
        "id": "iFkxWs9rMysR"
      },
      "source": [
        "But before we continue, let's talk about Transformers!\n",
        "\n",
        "One is a python library while the other is a breakthrough neural network architecture\n",
        "\n",
        "<img src=\"https://i.imgur.com/KapXo2S.png\" width=\"50%\" height=\"80%\" title=\"source: imgur.com\" />\n",
        "\n",
        "__For more reference about the architecture, [click here](https://papers.neurips.cc/paper/7181-attention-is-all-you-need.pdf)__"
      ]
    },
    {
      "cell_type": "markdown",
      "metadata": {
        "id": "1OlsE6oInOnH"
      },
      "source": [
        "## Tokenizers"
      ]
    },
    {
      "cell_type": "markdown",
      "source": [
        "> Tokenizers are used to convert the input text to an array of numbers"
      ],
      "metadata": {
        "id": "204hrVGxs3ZR"
      }
    },
    {
      "cell_type": "code",
      "execution_count": null,
      "metadata": {
        "colab": {
          "base_uri": "https://localhost:8080/"
        },
        "id": "_ESK-Baq6ObB",
        "outputId": "fa8ae0f2-28b1-4ccf-d6c9-aa7e6b97f895"
      },
      "outputs": [
        {
          "output_type": "stream",
          "name": "stdout",
          "text": [
            "First tokenizer:\n",
            "input_ids : [[101, 11312, 10320, 12495, 19308, 10114, 11391, 10855, 10103, 12495, 17377, 100, 58263, 13299, 119, 102], [101, 31617, 102, 0, 0, 0, 0, 0, 0, 0, 0, 0, 0, 0, 0, 0]]\n",
            "token_type_ids : [[0, 0, 0, 0, 0, 0, 0, 0, 0, 0, 0, 0, 0, 0, 0, 0], [0, 0, 0, 0, 0, 0, 0, 0, 0, 0, 0, 0, 0, 0, 0, 0]]\n",
            "attention_mask : [[1, 1, 1, 1, 1, 1, 1, 1, 1, 1, 1, 1, 1, 1, 1, 1], [1, 1, 1, 0, 0, 0, 0, 0, 0, 0, 0, 0, 0, 0, 0, 0]]\n",
            "Second tokenizer:\n",
            "input_ids : [101, 2057, 2024, 2200, 3407, 2000, 2265, 2017, 1996, 2200, 3297, 100, 19081, 3075, 1012, 102]\n",
            "token_type_ids : [0, 0, 0, 0, 0, 0, 0, 0, 0, 0, 0, 0, 0, 0, 0, 0]\n",
            "attention_mask : [1, 1, 1, 1, 1, 1, 1, 1, 1, 1, 1, 1, 1, 1, 1, 1]\n"
          ]
        },
        {
          "output_type": "stream",
          "name": "stderr",
          "text": [
            "/usr/local/lib/python3.10/dist-packages/transformers/tokenization_utils_base.py:2632: UserWarning: `max_length` is ignored when `padding`=`True` and there is no truncation strategy. To pad to max length, use `padding='max_length'`.\n",
            "  warnings.warn(\n"
          ]
        }
      ],
      "source": [
        "from transformers import AutoTokenizer\n",
        "\n",
        "# https://huggingface.co/nlptown/bert-base-multilingual-uncased-sentiment\n",
        "tokenizer_1 = AutoTokenizer.from_pretrained(\"nlptown/bert-base-multilingual-uncased-sentiment\")\n",
        "\n",
        "# https://huggingface.co/bert-base-uncased\n",
        "tokenizer_2 = AutoTokenizer.from_pretrained(\"bert-base-uncased\")\n",
        "\n",
        "text = \"We are very happy to show you the very famous 🤗 Transformers library.\"\n",
        "\n",
        "encoding_1 = tokenizer_1([text,\"yes\"],max_length=12,padding=True)\n",
        "encoding_2 = tokenizer_2(text)\n",
        "\n",
        "print('First tokenizer:')\n",
        "for e in encoding_1:\n",
        "  print(str(e)+' : '+str(encoding_1[e]))\n",
        "\n",
        "print('Second tokenizer:')\n",
        "for e in encoding_2:\n",
        "  print(str(e)+' : '+str(encoding_2[e]))"
      ]
    },
    {
      "cell_type": "code",
      "execution_count": null,
      "metadata": {
        "colab": {
          "base_uri": "https://localhost:8080/"
        },
        "id": "D8G0kEerBFVr",
        "outputId": "5c8f706a-1ff8-43db-9592-c32d8225dbd7"
      },
      "outputs": [
        {
          "output_type": "stream",
          "name": "stdout",
          "text": [
            "input_ids : [[101, 32252, 10114, 10103, 23734, 102], [101, 61530, 102, 0, 0, 0]]\n",
            "token_type_ids : [[0, 0, 0, 0, 0, 0], [0, 0, 0, 0, 0, 0]]\n",
            "attention_mask : [[1, 1, 1, 1, 1, 1], [1, 1, 1, 0, 0, 0]]\n"
          ]
        }
      ],
      "source": [
        "encoding_1 = tokenizer_1([\"Welcome to the session\",\"Enjoy\"],max_length=20,padding=True)\n",
        "for e in encoding_1:\n",
        "  print(str(e)+' : '+str(encoding_1[e]))"
      ]
    },
    {
      "cell_type": "code",
      "execution_count": null,
      "metadata": {
        "colab": {
          "base_uri": "https://localhost:8080/"
        },
        "id": "J-ma3FHsIpvI",
        "outputId": "a5b7948c-1933-4761-c96d-fce1fb230e8b"
      },
      "outputs": [
        {
          "output_type": "stream",
          "name": "stdout",
          "text": [
            "{'input_ids': [101, 6160, 2000, 9017, 102], 'token_type_ids': [0, 0, 0, 0, 0], 'attention_mask': [1, 1, 1, 1, 1]}\n"
          ]
        }
      ],
      "source": [
        "from transformers import AutoTokenizer\n",
        "\n",
        "tokenizer = AutoTokenizer.from_pretrained(\"bert-base-uncased\")\n",
        "\n",
        "seq = \"Welcome to BITS\"\n",
        "print(tokenizer(seq))"
      ]
    },
    {
      "cell_type": "code",
      "execution_count": null,
      "metadata": {
        "colab": {
          "base_uri": "https://localhost:8080/"
        },
        "id": "v0FjYY7RLCDU",
        "outputId": "bae4ae59-7b42-4338-ad7b-55ebfdb0b86f"
      },
      "outputs": [
        {
          "output_type": "stream",
          "name": "stdout",
          "text": [
            "input_ids: [101, 6160, 2000, 1996, 5219, 102, 3246, 2017, 2031, 1037, 2204, 2051, 999, 102]\n",
            "token_type_ids: [0, 0, 0, 0, 0, 0, 1, 1, 1, 1, 1, 1, 1, 1]\n",
            "attention_mask: [1, 1, 1, 1, 1, 1, 1, 1, 1, 1, 1, 1, 1, 1]\n"
          ]
        }
      ],
      "source": [
        "seq = tokenizer(\"Welcome to the session\", \"Hope you have a good time!\")\n",
        "for key, value in seq.items():\n",
        "    print(f\"{key}: {value}\")"
      ]
    },
    {
      "cell_type": "markdown",
      "metadata": {
        "id": "trs4V0GfMYAY"
      },
      "source": [
        "> NOTE : 'AutoTokenizer' module only works on textual data. To process image and audio into the correct format, use 'AutoImageProcessor' and 'AutoFeatureExtractor' respectively"
      ]
    },
    {
      "cell_type": "markdown",
      "metadata": {
        "id": "lz89gjqxNU6w"
      },
      "source": [
        "## Pipeline"
      ]
    },
    {
      "cell_type": "markdown",
      "metadata": {
        "id": "BhJ3YWp-Nigp"
      },
      "source": [
        "> Pipeline module makes it very easy to access pre-trained model from the hub"
      ]
    },
    {
      "cell_type": "code",
      "execution_count": null,
      "metadata": {
        "colab": {
          "base_uri": "https://localhost:8080/"
        },
        "id": "I7K0Mxa83GJ3",
        "outputId": "10194c83-445e-499a-ef30-7f2e5121c265"
      },
      "outputs": [
        {
          "output_type": "stream",
          "name": "stderr",
          "text": [
            "No model was supplied, defaulted to distilbert-base-uncased-finetuned-sst-2-english and revision af0f99b (https://huggingface.co/distilbert-base-uncased-finetuned-sst-2-english).\n",
            "Using a pipeline without specifying a model name and revision in production is not recommended.\n"
          ]
        },
        {
          "output_type": "execute_result",
          "data": {
            "text/plain": [
              "[{'label': 'POSITIVE', 'score': 0.9997795224189758}]"
            ]
          },
          "metadata": {},
          "execution_count": 5
        }
      ],
      "source": [
        "from transformers import pipeline\n",
        "\n",
        "classifier = pipeline(\"sentiment-analysis\")\n",
        "\n",
        "classifier(\"We are very happy to show you the 🤗 Transformers library.\")"
      ]
    },
    {
      "cell_type": "markdown",
      "metadata": {
        "id": "tnoP6EeWE245"
      },
      "source": [
        "> Parameters -\n",
        "1. model\n",
        "2. task\n",
        "3. tokenizer\n",
        "4. batch_size\n",
        "5. device"
      ]
    },
    {
      "cell_type": "code",
      "execution_count": null,
      "metadata": {
        "colab": {
          "base_uri": "https://localhost:8080/"
        },
        "id": "nmRO3G2PFY8h",
        "outputId": "3c86739e-2d7e-4a92-97b6-903503e39033"
      },
      "outputs": [
        {
          "output_type": "stream",
          "name": "stderr",
          "text": [
            "The `xla_device` argument has been deprecated in v4.4.0 of Transformers. It is ignored and you can safely remove it from your `config.json` file.\n",
            "The `xla_device` argument has been deprecated in v4.4.0 of Transformers. It is ignored and you can safely remove it from your `config.json` file.\n",
            "The `xla_device` argument has been deprecated in v4.4.0 of Transformers. It is ignored and you can safely remove it from your `config.json` file.\n",
            "The `xla_device` argument has been deprecated in v4.4.0 of Transformers. It is ignored and you can safely remove it from your `config.json` file.\n"
          ]
        },
        {
          "output_type": "stream",
          "name": "stdout",
          "text": [
            "[{'label': 'ENTAILMENT', 'score': 0.6847606301307678}]\n"
          ]
        }
      ],
      "source": [
        "from transformers import AutoTokenizer, AutoModelForSequenceClassification\n",
        "\n",
        "tokenizer = AutoTokenizer.from_pretrained(\"typeform/distilbert-base-uncased-mnli\")\n",
        "model = AutoModelForSequenceClassification.from_pretrained(\"typeform/distilbert-base-uncased-mnli\")\n",
        "\n",
        "sa_pipeline = pipeline(\n",
        "    task=\"sentiment-analysis\",\n",
        "    model=model,\n",
        "    tokenizer=tokenizer,\n",
        "    batch_size=32,\n",
        "    device=-1\n",
        "    )\n",
        "\n",
        "sentence = \"I love this movie!\"\n",
        "sentiment = sa_pipeline(sentence)\n",
        "\n",
        "print(sentiment)\n"
      ]
    },
    {
      "cell_type": "markdown",
      "metadata": {
        "id": "UDK6RQRxG2zD"
      },
      "source": [
        "> To view list of accepted tasks visit https://huggingface.co/docs/transformers/main_classes/pipelines#transformers.pipeline.task"
      ]
    },
    {
      "cell_type": "markdown",
      "metadata": {
        "id": "YlKAV9tUNHod"
      },
      "source": [
        "## Models\n",
        "\n",
        "\n",
        "\n"
      ]
    },
    {
      "cell_type": "markdown",
      "source": [
        "> What is architecture and what are checkpoints? (BERT and bert-base-uncased)\n",
        "\n",
        "*   BERT is a modified-transformers based architecture.\n",
        "*   bert-base-uncased is a pretrained model on english language and based on BERT architecture. (https://huggingface.co/bert-base-uncased)"
      ],
      "metadata": {
        "id": "dVj1jkris0kE"
      }
    },
    {
      "cell_type": "code",
      "execution_count": null,
      "metadata": {
        "colab": {
          "base_uri": "https://localhost:8080/"
        },
        "id": "PeP9oU4kSlvP",
        "outputId": "0a06fd2b-abfb-4b9e-d063-b89dd081b696"
      },
      "outputs": [
        {
          "output_type": "stream",
          "name": "stderr",
          "text": [
            "Some weights of the model checkpoint at bert-base-uncased were not used when initializing BertForMaskedLM: ['bert.pooler.dense.bias', 'cls.seq_relationship.bias', 'bert.pooler.dense.weight', 'cls.seq_relationship.weight']\n",
            "- This IS expected if you are initializing BertForMaskedLM from the checkpoint of a model trained on another task or with another architecture (e.g. initializing a BertForSequenceClassification model from a BertForPreTraining model).\n",
            "- This IS NOT expected if you are initializing BertForMaskedLM from the checkpoint of a model that you expect to be exactly identical (initializing a BertForSequenceClassification model from a BertForSequenceClassification model).\n"
          ]
        },
        {
          "output_type": "stream",
          "name": "stdout",
          "text": [
            "{'score': 0.9531505107879639, 'token': 3007, 'token_str': 'capital', 'sequence': 'delhi is capital of india.'}\n",
            "{'score': 0.025008611381053925, 'token': 2110, 'token_str': 'state', 'sequence': 'delhi is state of india.'}\n",
            "{'score': 0.00889446958899498, 'token': 2112, 'token_str': 'part', 'sequence': 'delhi is part of india.'}\n",
            "{'score': 0.0013557332567870617, 'token': 2103, 'token_str': 'city', 'sequence': 'delhi is city of india.'}\n",
            "{'score': 0.0013061006320640445, 'token': 3072, 'token_str': 'republic', 'sequence': 'delhi is republic of india.'}\n"
          ]
        }
      ],
      "source": [
        "from transformers import pipeline\n",
        "\n",
        "pipe = pipeline(\"fill-mask\", model=\"bert-base-uncased\")\n",
        "\n",
        "text = \"Delhi is [MASK] of India.\"\n",
        "prediction = pipe(text)\n",
        "for p in prediction:\n",
        "  print(p)"
      ]
    },
    {
      "cell_type": "markdown",
      "source": [
        "## Use Cases"
      ],
      "metadata": {
        "id": "0vUkKXpstats"
      }
    },
    {
      "cell_type": "markdown",
      "source": [
        "### 1. Text Classification 💬"
      ],
      "metadata": {
        "id": "jawWCafTtfhb"
      }
    },
    {
      "cell_type": "code",
      "source": [
        "from transformers import pipeline\n",
        "\n",
        "pipe = pipeline(\"text-classification\", model=\"distilbert-base-uncased-finetuned-sst-2-english\")"
      ],
      "metadata": {
        "id": "beWlSxr4tlGp"
      },
      "execution_count": null,
      "outputs": []
    },
    {
      "cell_type": "code",
      "source": [
        "# results = pipe('I feel very happy')\n",
        "results = pipe(['I am not enjoying','I feel very happy'])\n",
        "\n",
        "# results[0]['label']\n",
        "results"
      ],
      "metadata": {
        "colab": {
          "base_uri": "https://localhost:8080/"
        },
        "id": "S9K7ja8su9vn",
        "outputId": "d4a2c9ec-047a-404d-9714-164b807759dd"
      },
      "execution_count": null,
      "outputs": [
        {
          "output_type": "execute_result",
          "data": {
            "text/plain": [
              "[{'label': 'NEGATIVE', 'score': 0.9996455907821655},\n",
              " {'label': 'POSITIVE', 'score': 0.999884843826294}]"
            ]
          },
          "metadata": {},
          "execution_count": 18
        }
      ]
    },
    {
      "cell_type": "markdown",
      "source": [
        "### 2. Image Classification 🖼️"
      ],
      "metadata": {
        "id": "6XUhrHtSwXNL"
      }
    },
    {
      "cell_type": "code",
      "source": [
        "# Use a pipeline as a high-level helper\n",
        "from transformers import pipeline\n",
        "from PIL import Image\n",
        "import requests\n",
        "\n",
        "# https://huggingface.co/google/vit-base-patch16-224\n",
        "pipe = pipeline(\"image-classification\", model=\"google/vit-base-patch16-224\")\n",
        "\n",
        "url = 'http://images.cocodataset.org/val2017/000000039769.jpg'\n",
        "image = Image.open(requests.get(url, stream=True).raw)"
      ],
      "metadata": {
        "id": "GdBdsR8PxTIc"
      },
      "execution_count": null,
      "outputs": []
    },
    {
      "cell_type": "code",
      "source": [
        "results = pipe(image)\n",
        "results"
      ],
      "metadata": {
        "colab": {
          "base_uri": "https://localhost:8080/"
        },
        "id": "_TA9K3C-xYvO",
        "outputId": "6f5e4c1b-27cf-43b9-dcda-d780a6948a6b"
      },
      "execution_count": null,
      "outputs": [
        {
          "output_type": "execute_result",
          "data": {
            "text/plain": [
              "[{'score': 0.9374414086341858, 'label': 'Egyptian cat'},\n",
              " {'score': 0.038442570716142654, 'label': 'tabby, tabby cat'},\n",
              " {'score': 0.014411387033760548, 'label': 'tiger cat'},\n",
              " {'score': 0.0032743187621235847, 'label': 'lynx, catamount'},\n",
              " {'score': 0.0006795920198783278, 'label': 'Siamese cat, Siamese'}]"
            ]
          },
          "metadata": {},
          "execution_count": 21
        }
      ]
    },
    {
      "cell_type": "code",
      "source": [
        "from transformers import ViTImageProcessor, ViTForImageClassification\n",
        "from PIL import Image\n",
        "import requests\n",
        "\n",
        "url = 'http://images.cocodataset.org/val2017/000000039769.jpg'\n",
        "image = Image.open(requests.get(url, stream=True).raw)\n",
        "\n",
        "\n",
        "processor = ViTImageProcessor.from_pretrained('google/vit-base-patch16-224')\n",
        "model = ViTForImageClassification.from_pretrained('google/vit-base-patch16-224')\n",
        "\n",
        "inputs = processor(images=image, return_tensors=\"pt\")\n",
        "outputs = model(**inputs)\n",
        "logits = outputs.logits\n",
        "# model predicts one of the 1000 ImageNet classes\n",
        "predicted_class_idx = logits.argmax(-1).item()\n",
        "print(\"Predicted class:\", model.config.id2label[predicted_class_idx])\n"
      ],
      "metadata": {
        "colab": {
          "base_uri": "https://localhost:8080/"
        },
        "id": "fePEAP3qxChH",
        "outputId": "91441780-05a9-48bc-e0c4-341bb37205ef"
      },
      "execution_count": null,
      "outputs": [
        {
          "output_type": "stream",
          "name": "stdout",
          "text": [
            "Predicted class: Egyptian cat\n"
          ]
        }
      ]
    },
    {
      "cell_type": "markdown",
      "source": [
        "### 3. Text to speech 🔊"
      ],
      "metadata": {
        "id": "ZyMKQ8oYyAn9"
      }
    },
    {
      "cell_type": "code",
      "source": [
        "!pip install -q fairseq\n",
        "!pip install -q g2p_en\n",
        "!pip install huggingface-hub"
      ],
      "metadata": {
        "colab": {
          "base_uri": "https://localhost:8080/"
        },
        "id": "9XYuneZVyJS0",
        "outputId": "54a9669d-6993-45f9-ca24-35b7cbaa0d7e"
      },
      "execution_count": null,
      "outputs": [
        {
          "output_type": "stream",
          "name": "stdout",
          "text": [
            "Requirement already satisfied: huggingface-hub in /usr/local/lib/python3.10/dist-packages (0.19.3)\n",
            "Requirement already satisfied: filelock in /usr/local/lib/python3.10/dist-packages (from huggingface-hub) (3.13.1)\n",
            "Requirement already satisfied: fsspec>=2023.5.0 in /usr/local/lib/python3.10/dist-packages (from huggingface-hub) (2023.6.0)\n",
            "Requirement already satisfied: requests in /usr/local/lib/python3.10/dist-packages (from huggingface-hub) (2.31.0)\n",
            "Requirement already satisfied: tqdm>=4.42.1 in /usr/local/lib/python3.10/dist-packages (from huggingface-hub) (4.66.1)\n",
            "Requirement already satisfied: pyyaml>=5.1 in /usr/local/lib/python3.10/dist-packages (from huggingface-hub) (6.0.1)\n",
            "Requirement already satisfied: typing-extensions>=3.7.4.3 in /usr/local/lib/python3.10/dist-packages (from huggingface-hub) (4.5.0)\n",
            "Requirement already satisfied: packaging>=20.9 in /usr/local/lib/python3.10/dist-packages (from huggingface-hub) (23.2)\n",
            "Requirement already satisfied: charset-normalizer<4,>=2 in /usr/local/lib/python3.10/dist-packages (from requests->huggingface-hub) (3.3.2)\n",
            "Requirement already satisfied: idna<4,>=2.5 in /usr/local/lib/python3.10/dist-packages (from requests->huggingface-hub) (3.4)\n",
            "Requirement already satisfied: urllib3<3,>=1.21.1 in /usr/local/lib/python3.10/dist-packages (from requests->huggingface-hub) (2.0.7)\n",
            "Requirement already satisfied: certifi>=2017.4.17 in /usr/local/lib/python3.10/dist-packages (from requests->huggingface-hub) (2023.7.22)\n"
          ]
        }
      ]
    },
    {
      "cell_type": "code",
      "source": [
        "# https://huggingface.co/facebook/fastspeech2-en-200_speaker-cv4\n",
        "from fairseq.checkpoint_utils import load_model_ensemble_and_task_from_hf_hub\n",
        "from fairseq.models.text_to_speech.hub_interface import TTSHubInterface\n",
        "import IPython.display as ipd\n",
        "\n",
        "\n",
        "models, cfg, task = load_model_ensemble_and_task_from_hf_hub(\n",
        "    \"facebook/fastspeech2-en-200_speaker-cv4\",\n",
        "    arg_overrides={\"vocoder\": \"hifigan\", \"fp16\": False}\n",
        ")\n",
        "model = models[0]\n",
        "TTSHubInterface.update_cfg_with_data_cfg(cfg, task.data_cfg)\n",
        "\n",
        "generator = task.build_generator([model], cfg)\n"
      ],
      "metadata": {
        "colab": {
          "base_uri": "https://localhost:8080/",
          "height": 104,
          "referenced_widgets": [
            "75682b1c0fee4d758e0701a890636927",
            "74391185676d45ef9e2fca2a2f656904",
            "d4f0605ff7114c69b0365beb361fc5a2",
            "127fb28c2680478da106b5ce849e40f4",
            "cd02097ddad44e44a76e967e89081f06",
            "729cc6b3630f418d8117a9d421c83794",
            "d5fe91fe12c34043b27286480da64385",
            "7e8438e74cae49eeae6ca2676e46b2fb",
            "fd747dd00ad747faaa1f500358cf2989",
            "f059f24d52024f39be4f0676e5df8f0a",
            "0b32e7723a984c628fce8829bfab002a"
          ]
        },
        "id": "0KZncXrAyGTf",
        "outputId": "413243db-11d3-40d0-f7a0-003de723ae0d"
      },
      "execution_count": null,
      "outputs": [
        {
          "output_type": "display_data",
          "data": {
            "text/plain": [
              "Fetching 9 files:   0%|          | 0/9 [00:00<?, ?it/s]"
            ],
            "application/vnd.jupyter.widget-view+json": {
              "version_major": 2,
              "version_minor": 0,
              "model_id": "75682b1c0fee4d758e0701a890636927"
            }
          },
          "metadata": {}
        },
        {
          "output_type": "stream",
          "name": "stderr",
          "text": [
            "/usr/local/lib/python3.10/dist-packages/torch/nn/utils/weight_norm.py:30: UserWarning: torch.nn.utils.weight_norm is deprecated in favor of torch.nn.utils.parametrizations.weight_norm.\n",
            "  warnings.warn(\"torch.nn.utils.weight_norm is deprecated in favor of torch.nn.utils.parametrizations.weight_norm.\")\n"
          ]
        }
      ]
    },
    {
      "cell_type": "code",
      "source": [
        "# text = \"Hello, this is a test run.\"\n",
        "text = \"Google Developer Student Club BITS Pilani Dubai\"\n",
        "\n",
        "sample = TTSHubInterface.get_model_input(task, text)\n",
        "wav, rate = TTSHubInterface.get_prediction(task, model, generator, sample)\n",
        "\n",
        "ipd.Audio(wav, rate=rate)"
      ],
      "metadata": {
        "colab": {
          "base_uri": "https://localhost:8080/",
          "height": 75
        },
        "id": "Vf3cFcnK0UG0",
        "outputId": "08cf74b8-08e4-474c-8458-8c361b152be8"
      },
      "execution_count": null,
      "outputs": [
        {
          "output_type": "execute_result",
          "data": {
            "text/plain": [
              "<IPython.lib.display.Audio object>"
            ],
            "text/html": [
              "\n",
              "                <audio  controls=\"controls\" >\n",
              "                    <source src=\"data:audio/wav;base64,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\" type=\"audio/wav\" />\n",
              "                    Your browser does not support the audio element.\n",
              "                </audio>\n",
              "              "
            ]
          },
          "metadata": {},
          "execution_count": 25
        }
      ]
    },
    {
      "cell_type": "markdown",
      "metadata": {
        "id": "XLmG12Dn3fZ1"
      },
      "source": [
        "# Let's create a chatbot using streamlit and huggingface! 🤖"
      ]
    },
    {
      "cell_type": "code",
      "execution_count": null,
      "metadata": {
        "id": "Zow6OYFU3lUS"
      },
      "outputs": [],
      "source": [
        "!pip install -q streamlit"
      ]
    },
    {
      "cell_type": "code",
      "execution_count": null,
      "metadata": {
        "colab": {
          "base_uri": "https://localhost:8080/"
        },
        "id": "Mf3zPg5w3qFU",
        "outputId": "c09bae6d-33ba-4474-fe94-503c31de5493"
      },
      "outputs": [
        {
          "output_type": "stream",
          "name": "stdout",
          "text": [
            "Overwriting generic_chatbot.py\n"
          ]
        }
      ],
      "source": [
        "%%writefile generic_chatbot.py\n",
        "import streamlit as st\n",
        "import random\n",
        "import time\n",
        "from transformers import pipeline, Conversation\n",
        "\n",
        "chatbot = pipeline(model=\"facebook/blenderbot-400M-distill\")\n",
        "\n",
        "message_list = []\n",
        "response_list = []\n",
        "\n",
        "st.title(\"Generic Chatbot\")\n",
        "\n",
        "# Initialize chat history\n",
        "if \"messages\" not in st.session_state:\n",
        "    st.session_state.messages = []\n",
        "\n",
        "# Display chat messages from history on app rerun\n",
        "for message in st.session_state.messages:\n",
        "    with st.chat_message(message[\"role\"],avatar=message[\"avatar\"]):\n",
        "        st.markdown(message[\"content\"])\n",
        "\n",
        "# Accept user input\n",
        "if prompt := st.chat_input(\"Enter something...\"):\n",
        "    # Add user message to chat history\n",
        "    st.session_state.messages.append({\"role\": \"user\", \"content\": prompt,\"avatar\":\"🤗\"})\n",
        "    # Display user message in chat message container\n",
        "    with st.chat_message(\"user\",avatar='🤗'):\n",
        "        st.markdown(prompt)\n",
        "\n",
        "    # Display assistant response in chat message container\n",
        "    with st.chat_message(\"assistant\",avatar='🤖'):\n",
        "        message_placeholder = st.empty()\n",
        "        full_response = \"\"\n",
        "        message_list.append(prompt)\n",
        "        conversation = Conversation(text=prompt, past_user_inputs=message_list, generated_responses=response_list)\n",
        "        conversation = chatbot(conversation)\n",
        "        assistant_response = conversation.generated_responses[-1]\n",
        "        response_list.append(assistant_response)\n",
        "\n",
        "\n",
        "        # Simulate stream of response with milliseconds delay\n",
        "        for chunk in assistant_response.split():\n",
        "            full_response += chunk + \" \"\n",
        "            time.sleep(0.05)\n",
        "            # Add a blinking cursor to simulate typing\n",
        "            message_placeholder.markdown(full_response + \"▌\")\n",
        "\n",
        "        message_placeholder.markdown(full_response)\n",
        "    # Add assistant response to chat history\n",
        "    st.session_state.messages.append({\"role\": \"assistant\", \"content\": full_response,\"avatar\":\"🤖\"})"
      ]
    },
    {
      "cell_type": "code",
      "execution_count": null,
      "metadata": {
        "colab": {
          "base_uri": "https://localhost:8080/"
        },
        "id": "m5M04hcA3seM",
        "outputId": "2a48fccd-e39a-446a-9470-2c0b2a3141f4"
      },
      "outputs": [
        {
          "output_type": "stream",
          "name": "stdout",
          "text": [
            "34.86.46.52\n",
            "[##................] - fetchMetadata: sill resolveWithNewModule y18n@5.0.8 chec\u001b[0m\u001b[K\n",
            "Collecting usage statistics. To deactivate, set browser.gatherUsageStats to False.\n",
            "\u001b[0m\n",
            "\u001b[0m\n",
            "\u001b[34m\u001b[1m  You can now view your Streamlit app in your browser.\u001b[0m\n",
            "\u001b[0m\n",
            "\u001b[34m  Network URL: \u001b[0m\u001b[1mhttp://172.28.0.12:8501\u001b[0m\n",
            "\u001b[34m  External URL: \u001b[0m\u001b[1mhttp://34.86.46.52:8501\u001b[0m\n",
            "\u001b[0m\n",
            "\u001b[K\u001b[?25hnpx: installed 22 in 10.758s\n",
            "your url is: https://odd-books-make.loca.lt\n",
            "\u001b[34m  Stopping...\u001b[0m\n",
            "^C\n"
          ]
        }
      ],
      "source": [
        "!wget -q -O - ipv4.icanhazip.com\n",
        "! streamlit run generic_chatbot.py & npx localtunnel --port 8501"
      ]
    },
    {
      "cell_type": "markdown",
      "source": [
        "## How to run streamlit in colab?\n"
      ],
      "metadata": {
        "id": "GBz4eVP9bjwI"
      }
    },
    {
      "cell_type": "markdown",
      "source": [
        "\n",
        "### 1. Click on the generated link\n",
        "\n",
        "<img src=\"https://i.imgur.com/o49MkcK.png\" title=\"source: imgur.com\" />\n",
        "\n"
      ],
      "metadata": {
        "id": "fkdPbfwzc0MD"
      }
    },
    {
      "cell_type": "markdown",
      "source": [
        "\n",
        "### 2. Enter the IP address to access the streamlit platform\n",
        "\n",
        "<img src=\"https://i.imgur.com/DhzY1nU.png\" title=\"source: imgur.com\" style=\"border: 10px solid black;\" />"
      ],
      "metadata": {
        "id": "uuBWE6pgc3Hb"
      }
    },
    {
      "cell_type": "markdown",
      "source": [
        "## What to do if you dont know how to use a model? 😖"
      ],
      "metadata": {
        "id": "2Jj1bGZwQIjN"
      }
    },
    {
      "cell_type": "markdown",
      "source": [
        "1. Check Github\n",
        "2. Check HuggingFace Spaces\n",
        "\n",
        "eg : model=\"facebook/blenderbot-400M-distill\""
      ],
      "metadata": {
        "id": "uV9SpdgvQVsd"
      }
    },
    {
      "cell_type": "code",
      "source": [
        "# Use a pipeline as a high-level helper\n",
        "from transformers import pipeline\n",
        "\n",
        "pipe = pipeline(\"conversational\", model=\"facebook/blenderbot-400M-distill\")\n",
        "\n",
        "ans = pipe('Hi how are you?')"
      ],
      "metadata": {
        "colab": {
          "base_uri": "https://localhost:8080/",
          "height": 411
        },
        "id": "wArR4j_cRH-A",
        "outputId": "b7aa9a8a-6e45-4e36-bbcf-59f353b01a17"
      },
      "execution_count": null,
      "outputs": [
        {
          "output_type": "stream",
          "name": "stderr",
          "text": [
            "\n",
            "No chat template is defined for this tokenizer - using the default template for the BlenderbotTokenizerFast class. If the default is not appropriate for your model, please set `tokenizer.chat_template` to an appropriate template. See https://huggingface.co/docs/transformers/main/chat_templating for more information.\n",
            "\n"
          ]
        },
        {
          "output_type": "error",
          "ename": "AttributeError",
          "evalue": "ignored",
          "traceback": [
            "\u001b[0;31m---------------------------------------------------------------------------\u001b[0m",
            "\u001b[0;31mAttributeError\u001b[0m                            Traceback (most recent call last)",
            "\u001b[0;32m<ipython-input-29-7861ef620052>\u001b[0m in \u001b[0;36m<cell line: 6>\u001b[0;34m()\u001b[0m\n\u001b[1;32m      4\u001b[0m \u001b[0mpipe\u001b[0m \u001b[0;34m=\u001b[0m \u001b[0mpipeline\u001b[0m\u001b[0;34m(\u001b[0m\u001b[0;34m\"conversational\"\u001b[0m\u001b[0;34m,\u001b[0m \u001b[0mmodel\u001b[0m\u001b[0;34m=\u001b[0m\u001b[0;34m\"facebook/blenderbot-400M-distill\"\u001b[0m\u001b[0;34m)\u001b[0m\u001b[0;34m\u001b[0m\u001b[0;34m\u001b[0m\u001b[0m\n\u001b[1;32m      5\u001b[0m \u001b[0;34m\u001b[0m\u001b[0m\n\u001b[0;32m----> 6\u001b[0;31m \u001b[0mans\u001b[0m \u001b[0;34m=\u001b[0m \u001b[0mpipe\u001b[0m\u001b[0;34m(\u001b[0m\u001b[0;34m'Hi how are you?'\u001b[0m\u001b[0;34m)\u001b[0m\u001b[0;34m\u001b[0m\u001b[0;34m\u001b[0m\u001b[0m\n\u001b[0m",
            "\u001b[0;32m/usr/local/lib/python3.10/dist-packages/transformers/pipelines/conversational.py\u001b[0m in \u001b[0;36m__call__\u001b[0;34m(self, conversations, num_workers, **kwargs)\u001b[0m\n\u001b[1;32m    287\u001b[0m         \u001b[0;32melif\u001b[0m \u001b[0misinstance\u001b[0m\u001b[0;34m(\u001b[0m\u001b[0mconversations\u001b[0m\u001b[0;34m,\u001b[0m \u001b[0mlist\u001b[0m\u001b[0;34m)\u001b[0m \u001b[0;32mand\u001b[0m \u001b[0misinstance\u001b[0m\u001b[0;34m(\u001b[0m\u001b[0mconversations\u001b[0m\u001b[0;34m[\u001b[0m\u001b[0;36m0\u001b[0m\u001b[0;34m]\u001b[0m\u001b[0;34m,\u001b[0m \u001b[0mlist\u001b[0m\u001b[0;34m)\u001b[0m\u001b[0;34m:\u001b[0m\u001b[0;34m\u001b[0m\u001b[0;34m\u001b[0m\u001b[0m\n\u001b[1;32m    288\u001b[0m             \u001b[0mconversations\u001b[0m \u001b[0;34m=\u001b[0m \u001b[0;34m[\u001b[0m\u001b[0mConversation\u001b[0m\u001b[0;34m(\u001b[0m\u001b[0mconv\u001b[0m\u001b[0;34m)\u001b[0m \u001b[0;32mfor\u001b[0m \u001b[0mconv\u001b[0m \u001b[0;32min\u001b[0m \u001b[0mconversations\u001b[0m\u001b[0;34m]\u001b[0m\u001b[0;34m\u001b[0m\u001b[0;34m\u001b[0m\u001b[0m\n\u001b[0;32m--> 289\u001b[0;31m         \u001b[0moutputs\u001b[0m \u001b[0;34m=\u001b[0m \u001b[0msuper\u001b[0m\u001b[0;34m(\u001b[0m\u001b[0;34m)\u001b[0m\u001b[0;34m.\u001b[0m\u001b[0m__call__\u001b[0m\u001b[0;34m(\u001b[0m\u001b[0mconversations\u001b[0m\u001b[0;34m,\u001b[0m \u001b[0mnum_workers\u001b[0m\u001b[0;34m=\u001b[0m\u001b[0mnum_workers\u001b[0m\u001b[0;34m,\u001b[0m \u001b[0;34m**\u001b[0m\u001b[0mkwargs\u001b[0m\u001b[0;34m)\u001b[0m\u001b[0;34m\u001b[0m\u001b[0;34m\u001b[0m\u001b[0m\n\u001b[0m\u001b[1;32m    290\u001b[0m         \u001b[0;32mif\u001b[0m \u001b[0misinstance\u001b[0m\u001b[0;34m(\u001b[0m\u001b[0moutputs\u001b[0m\u001b[0;34m,\u001b[0m \u001b[0mlist\u001b[0m\u001b[0;34m)\u001b[0m \u001b[0;32mand\u001b[0m \u001b[0mlen\u001b[0m\u001b[0;34m(\u001b[0m\u001b[0moutputs\u001b[0m\u001b[0;34m)\u001b[0m \u001b[0;34m==\u001b[0m \u001b[0;36m1\u001b[0m\u001b[0;34m:\u001b[0m\u001b[0;34m\u001b[0m\u001b[0;34m\u001b[0m\u001b[0m\n\u001b[1;32m    291\u001b[0m             \u001b[0;32mreturn\u001b[0m \u001b[0moutputs\u001b[0m\u001b[0;34m[\u001b[0m\u001b[0;36m0\u001b[0m\u001b[0;34m]\u001b[0m\u001b[0;34m\u001b[0m\u001b[0;34m\u001b[0m\u001b[0m\n",
            "\u001b[0;32m/usr/local/lib/python3.10/dist-packages/transformers/pipelines/base.py\u001b[0m in \u001b[0;36m__call__\u001b[0;34m(self, inputs, num_workers, batch_size, *args, **kwargs)\u001b[0m\n\u001b[1;32m   1138\u001b[0m             )\n\u001b[1;32m   1139\u001b[0m         \u001b[0;32melse\u001b[0m\u001b[0;34m:\u001b[0m\u001b[0;34m\u001b[0m\u001b[0;34m\u001b[0m\u001b[0m\n\u001b[0;32m-> 1140\u001b[0;31m             \u001b[0;32mreturn\u001b[0m \u001b[0mself\u001b[0m\u001b[0;34m.\u001b[0m\u001b[0mrun_single\u001b[0m\u001b[0;34m(\u001b[0m\u001b[0minputs\u001b[0m\u001b[0;34m,\u001b[0m \u001b[0mpreprocess_params\u001b[0m\u001b[0;34m,\u001b[0m \u001b[0mforward_params\u001b[0m\u001b[0;34m,\u001b[0m \u001b[0mpostprocess_params\u001b[0m\u001b[0;34m)\u001b[0m\u001b[0;34m\u001b[0m\u001b[0;34m\u001b[0m\u001b[0m\n\u001b[0m\u001b[1;32m   1141\u001b[0m \u001b[0;34m\u001b[0m\u001b[0m\n\u001b[1;32m   1142\u001b[0m     \u001b[0;32mdef\u001b[0m \u001b[0mrun_multi\u001b[0m\u001b[0;34m(\u001b[0m\u001b[0mself\u001b[0m\u001b[0;34m,\u001b[0m \u001b[0minputs\u001b[0m\u001b[0;34m,\u001b[0m \u001b[0mpreprocess_params\u001b[0m\u001b[0;34m,\u001b[0m \u001b[0mforward_params\u001b[0m\u001b[0;34m,\u001b[0m \u001b[0mpostprocess_params\u001b[0m\u001b[0;34m)\u001b[0m\u001b[0;34m:\u001b[0m\u001b[0;34m\u001b[0m\u001b[0;34m\u001b[0m\u001b[0m\n",
            "\u001b[0;32m/usr/local/lib/python3.10/dist-packages/transformers/pipelines/base.py\u001b[0m in \u001b[0;36mrun_single\u001b[0;34m(self, inputs, preprocess_params, forward_params, postprocess_params)\u001b[0m\n\u001b[1;32m   1146\u001b[0m         \u001b[0mmodel_inputs\u001b[0m \u001b[0;34m=\u001b[0m \u001b[0mself\u001b[0m\u001b[0;34m.\u001b[0m\u001b[0mpreprocess\u001b[0m\u001b[0;34m(\u001b[0m\u001b[0minputs\u001b[0m\u001b[0;34m,\u001b[0m \u001b[0;34m**\u001b[0m\u001b[0mpreprocess_params\u001b[0m\u001b[0;34m)\u001b[0m\u001b[0;34m\u001b[0m\u001b[0;34m\u001b[0m\u001b[0m\n\u001b[1;32m   1147\u001b[0m         \u001b[0mmodel_outputs\u001b[0m \u001b[0;34m=\u001b[0m \u001b[0mself\u001b[0m\u001b[0;34m.\u001b[0m\u001b[0mforward\u001b[0m\u001b[0;34m(\u001b[0m\u001b[0mmodel_inputs\u001b[0m\u001b[0;34m,\u001b[0m \u001b[0;34m**\u001b[0m\u001b[0mforward_params\u001b[0m\u001b[0;34m)\u001b[0m\u001b[0;34m\u001b[0m\u001b[0;34m\u001b[0m\u001b[0m\n\u001b[0;32m-> 1148\u001b[0;31m         \u001b[0moutputs\u001b[0m \u001b[0;34m=\u001b[0m \u001b[0mself\u001b[0m\u001b[0;34m.\u001b[0m\u001b[0mpostprocess\u001b[0m\u001b[0;34m(\u001b[0m\u001b[0mmodel_outputs\u001b[0m\u001b[0;34m,\u001b[0m \u001b[0;34m**\u001b[0m\u001b[0mpostprocess_params\u001b[0m\u001b[0;34m)\u001b[0m\u001b[0;34m\u001b[0m\u001b[0;34m\u001b[0m\u001b[0m\n\u001b[0m\u001b[1;32m   1149\u001b[0m         \u001b[0;32mreturn\u001b[0m \u001b[0moutputs\u001b[0m\u001b[0;34m\u001b[0m\u001b[0;34m\u001b[0m\u001b[0m\n\u001b[1;32m   1150\u001b[0m \u001b[0;34m\u001b[0m\u001b[0m\n",
            "\u001b[0;32m/usr/local/lib/python3.10/dist-packages/transformers/pipelines/conversational.py\u001b[0m in \u001b[0;36mpostprocess\u001b[0;34m(self, model_outputs, clean_up_tokenization_spaces)\u001b[0m\n\u001b[1;32m    321\u001b[0m         )\n\u001b[1;32m    322\u001b[0m         \u001b[0mconversation\u001b[0m \u001b[0;34m=\u001b[0m \u001b[0mmodel_outputs\u001b[0m\u001b[0;34m[\u001b[0m\u001b[0;34m\"conversation\"\u001b[0m\u001b[0;34m]\u001b[0m\u001b[0;34m\u001b[0m\u001b[0;34m\u001b[0m\u001b[0m\n\u001b[0;32m--> 323\u001b[0;31m         \u001b[0mconversation\u001b[0m\u001b[0;34m.\u001b[0m\u001b[0madd_message\u001b[0m\u001b[0;34m(\u001b[0m\u001b[0;34m{\u001b[0m\u001b[0;34m\"role\"\u001b[0m\u001b[0;34m:\u001b[0m \u001b[0;34m\"assistant\"\u001b[0m\u001b[0;34m,\u001b[0m \u001b[0;34m\"content\"\u001b[0m\u001b[0;34m:\u001b[0m \u001b[0manswer\u001b[0m\u001b[0;34m}\u001b[0m\u001b[0;34m)\u001b[0m\u001b[0;34m\u001b[0m\u001b[0;34m\u001b[0m\u001b[0m\n\u001b[0m\u001b[1;32m    324\u001b[0m         \u001b[0;32mreturn\u001b[0m \u001b[0mconversation\u001b[0m\u001b[0;34m\u001b[0m\u001b[0;34m\u001b[0m\u001b[0m\n",
            "\u001b[0;31mAttributeError\u001b[0m: 'str' object has no attribute 'add_message'"
          ]
        }
      ]
    },
    {
      "cell_type": "code",
      "source": [
        "from transformers import Conversation\n",
        "conversation = Conversation(\"I'm looking for a movie - what's your favourite one?\")\n",
        "ans = pipe(conversation)"
      ],
      "metadata": {
        "id": "qxSqT0X4Run_"
      },
      "execution_count": null,
      "outputs": []
    },
    {
      "cell_type": "code",
      "source": [
        "print(ans)"
      ],
      "metadata": {
        "colab": {
          "base_uri": "https://localhost:8080/"
        },
        "id": "vH4q4aGGR9yI",
        "outputId": "99610464-bfc5-4ef2-ac7c-59660e196f94"
      },
      "execution_count": null,
      "outputs": [
        {
          "output_type": "stream",
          "name": "stdout",
          "text": [
            "Conversation id: 093afc7a-edd8-488a-bbec-1bba22265344\n",
            "user: I'm looking for a movie - what's your favourite one?\n",
            "assistant:  I don't really have a favorite movie, but I do like action movies. What about you?\n",
            "\n"
          ]
        }
      ]
    },
    {
      "cell_type": "code",
      "source": [
        "from transformers import BlenderbotTokenizer, BlenderbotForConditionalGeneration\n",
        "\n",
        "#import model class and tokenizer\n",
        "from transformers import BlenderbotTokenizer, BlenderbotForConditionalGeneration\n",
        "\n",
        "#download and setup the model and tokenizer\n",
        "model_name = 'facebook/blenderbot-400M-distill'\n",
        "tokenizer = BlenderbotTokenizer.from_pretrained(model_name)\n",
        "model = BlenderbotForConditionalGeneration.from_pretrained(model_name)\n",
        "\n",
        "def func (message):\n",
        "  inputs = tokenizer(message, return_tensors=\"pt\")\n",
        "  result = model.generate(**inputs)\n",
        "  return tokenizer.decode(result[0])"
      ],
      "metadata": {
        "id": "esIVjkxrR-o2"
      },
      "execution_count": null,
      "outputs": []
    },
    {
      "cell_type": "code",
      "source": [
        "ans = func('Hi how are you')\n",
        "print(ans)"
      ],
      "metadata": {
        "colab": {
          "base_uri": "https://localhost:8080/"
        },
        "id": "hSp02mi9SmoQ",
        "outputId": "c4485928-4ef8-4585-ba25-26649e71b54c"
      },
      "execution_count": null,
      "outputs": [
        {
          "output_type": "stream",
          "name": "stdout",
          "text": [
            "<s> I'm doing well. How are you? What do you like to do in your free time?</s>\n"
          ]
        }
      ]
    },
    {
      "cell_type": "markdown",
      "source": [
        "# What's next?\n",
        "\n",
        "1. Learn how how to fine tune these pre-trained models\n",
        "\n",
        "  [Official Docs](https://huggingface.co/docs/transformers/training)\n",
        "\n",
        "  [Example Notebook](https://github.com/krishnaik06/Huggingfacetransformer/blob/main/Custom_Sentiment_Analysis.ipynb)\n",
        "\n",
        "2. Get acquainted on how to use transformers in JavaScript\n",
        "\n",
        "  [Official Docs](https://huggingface.co/docs/transformers.js/index)\n",
        "\n",
        "3. Create an account on HuggingFace and start contributing!\n",
        "  \n",
        "  [Click here to sign up!](https://huggingface.co/join)\n",
        "\n",
        "  \n"
      ],
      "metadata": {
        "id": "i4rHlWnRS10o"
      }
    },
    {
      "cell_type": "markdown",
      "source": [
        "# Thank You for attending the session! 🎊"
      ],
      "metadata": {
        "id": "CLYNWLHpUEMB"
      }
    }
  ],
  "metadata": {
    "colab": {
      "provenance": [],
      "collapsed_sections": [
        "YlKAV9tUNHod"
      ]
    },
    "kernelspec": {
      "display_name": "Python 3",
      "name": "python3"
    },
    "language_info": {
      "name": "python"
    },
    "widgets": {
      "application/vnd.jupyter.widget-state+json": {
        "75682b1c0fee4d758e0701a890636927": {
          "model_module": "@jupyter-widgets/controls",
          "model_name": "HBoxModel",
          "model_module_version": "1.5.0",
          "state": {
            "_dom_classes": [],
            "_model_module": "@jupyter-widgets/controls",
            "_model_module_version": "1.5.0",
            "_model_name": "HBoxModel",
            "_view_count": null,
            "_view_module": "@jupyter-widgets/controls",
            "_view_module_version": "1.5.0",
            "_view_name": "HBoxView",
            "box_style": "",
            "children": [
              "IPY_MODEL_74391185676d45ef9e2fca2a2f656904",
              "IPY_MODEL_d4f0605ff7114c69b0365beb361fc5a2",
              "IPY_MODEL_127fb28c2680478da106b5ce849e40f4"
            ],
            "layout": "IPY_MODEL_cd02097ddad44e44a76e967e89081f06"
          }
        },
        "74391185676d45ef9e2fca2a2f656904": {
          "model_module": "@jupyter-widgets/controls",
          "model_name": "HTMLModel",
          "model_module_version": "1.5.0",
          "state": {
            "_dom_classes": [],
            "_model_module": "@jupyter-widgets/controls",
            "_model_module_version": "1.5.0",
            "_model_name": "HTMLModel",
            "_view_count": null,
            "_view_module": "@jupyter-widgets/controls",
            "_view_module_version": "1.5.0",
            "_view_name": "HTMLView",
            "description": "",
            "description_tooltip": null,
            "layout": "IPY_MODEL_729cc6b3630f418d8117a9d421c83794",
            "placeholder": "​",
            "style": "IPY_MODEL_d5fe91fe12c34043b27286480da64385",
            "value": "Fetching 9 files: 100%"
          }
        },
        "d4f0605ff7114c69b0365beb361fc5a2": {
          "model_module": "@jupyter-widgets/controls",
          "model_name": "FloatProgressModel",
          "model_module_version": "1.5.0",
          "state": {
            "_dom_classes": [],
            "_model_module": "@jupyter-widgets/controls",
            "_model_module_version": "1.5.0",
            "_model_name": "FloatProgressModel",
            "_view_count": null,
            "_view_module": "@jupyter-widgets/controls",
            "_view_module_version": "1.5.0",
            "_view_name": "ProgressView",
            "bar_style": "success",
            "description": "",
            "description_tooltip": null,
            "layout": "IPY_MODEL_7e8438e74cae49eeae6ca2676e46b2fb",
            "max": 9,
            "min": 0,
            "orientation": "horizontal",
            "style": "IPY_MODEL_fd747dd00ad747faaa1f500358cf2989",
            "value": 9
          }
        },
        "127fb28c2680478da106b5ce849e40f4": {
          "model_module": "@jupyter-widgets/controls",
          "model_name": "HTMLModel",
          "model_module_version": "1.5.0",
          "state": {
            "_dom_classes": [],
            "_model_module": "@jupyter-widgets/controls",
            "_model_module_version": "1.5.0",
            "_model_name": "HTMLModel",
            "_view_count": null,
            "_view_module": "@jupyter-widgets/controls",
            "_view_module_version": "1.5.0",
            "_view_name": "HTMLView",
            "description": "",
            "description_tooltip": null,
            "layout": "IPY_MODEL_f059f24d52024f39be4f0676e5df8f0a",
            "placeholder": "​",
            "style": "IPY_MODEL_0b32e7723a984c628fce8829bfab002a",
            "value": " 9/9 [00:00&lt;00:00, 132.57it/s]"
          }
        },
        "cd02097ddad44e44a76e967e89081f06": {
          "model_module": "@jupyter-widgets/base",
          "model_name": "LayoutModel",
          "model_module_version": "1.2.0",
          "state": {
            "_model_module": "@jupyter-widgets/base",
            "_model_module_version": "1.2.0",
            "_model_name": "LayoutModel",
            "_view_count": null,
            "_view_module": "@jupyter-widgets/base",
            "_view_module_version": "1.2.0",
            "_view_name": "LayoutView",
            "align_content": null,
            "align_items": null,
            "align_self": null,
            "border": null,
            "bottom": null,
            "display": null,
            "flex": null,
            "flex_flow": null,
            "grid_area": null,
            "grid_auto_columns": null,
            "grid_auto_flow": null,
            "grid_auto_rows": null,
            "grid_column": null,
            "grid_gap": null,
            "grid_row": null,
            "grid_template_areas": null,
            "grid_template_columns": null,
            "grid_template_rows": null,
            "height": null,
            "justify_content": null,
            "justify_items": null,
            "left": null,
            "margin": null,
            "max_height": null,
            "max_width": null,
            "min_height": null,
            "min_width": null,
            "object_fit": null,
            "object_position": null,
            "order": null,
            "overflow": null,
            "overflow_x": null,
            "overflow_y": null,
            "padding": null,
            "right": null,
            "top": null,
            "visibility": null,
            "width": null
          }
        },
        "729cc6b3630f418d8117a9d421c83794": {
          "model_module": "@jupyter-widgets/base",
          "model_name": "LayoutModel",
          "model_module_version": "1.2.0",
          "state": {
            "_model_module": "@jupyter-widgets/base",
            "_model_module_version": "1.2.0",
            "_model_name": "LayoutModel",
            "_view_count": null,
            "_view_module": "@jupyter-widgets/base",
            "_view_module_version": "1.2.0",
            "_view_name": "LayoutView",
            "align_content": null,
            "align_items": null,
            "align_self": null,
            "border": null,
            "bottom": null,
            "display": null,
            "flex": null,
            "flex_flow": null,
            "grid_area": null,
            "grid_auto_columns": null,
            "grid_auto_flow": null,
            "grid_auto_rows": null,
            "grid_column": null,
            "grid_gap": null,
            "grid_row": null,
            "grid_template_areas": null,
            "grid_template_columns": null,
            "grid_template_rows": null,
            "height": null,
            "justify_content": null,
            "justify_items": null,
            "left": null,
            "margin": null,
            "max_height": null,
            "max_width": null,
            "min_height": null,
            "min_width": null,
            "object_fit": null,
            "object_position": null,
            "order": null,
            "overflow": null,
            "overflow_x": null,
            "overflow_y": null,
            "padding": null,
            "right": null,
            "top": null,
            "visibility": null,
            "width": null
          }
        },
        "d5fe91fe12c34043b27286480da64385": {
          "model_module": "@jupyter-widgets/controls",
          "model_name": "DescriptionStyleModel",
          "model_module_version": "1.5.0",
          "state": {
            "_model_module": "@jupyter-widgets/controls",
            "_model_module_version": "1.5.0",
            "_model_name": "DescriptionStyleModel",
            "_view_count": null,
            "_view_module": "@jupyter-widgets/base",
            "_view_module_version": "1.2.0",
            "_view_name": "StyleView",
            "description_width": ""
          }
        },
        "7e8438e74cae49eeae6ca2676e46b2fb": {
          "model_module": "@jupyter-widgets/base",
          "model_name": "LayoutModel",
          "model_module_version": "1.2.0",
          "state": {
            "_model_module": "@jupyter-widgets/base",
            "_model_module_version": "1.2.0",
            "_model_name": "LayoutModel",
            "_view_count": null,
            "_view_module": "@jupyter-widgets/base",
            "_view_module_version": "1.2.0",
            "_view_name": "LayoutView",
            "align_content": null,
            "align_items": null,
            "align_self": null,
            "border": null,
            "bottom": null,
            "display": null,
            "flex": null,
            "flex_flow": null,
            "grid_area": null,
            "grid_auto_columns": null,
            "grid_auto_flow": null,
            "grid_auto_rows": null,
            "grid_column": null,
            "grid_gap": null,
            "grid_row": null,
            "grid_template_areas": null,
            "grid_template_columns": null,
            "grid_template_rows": null,
            "height": null,
            "justify_content": null,
            "justify_items": null,
            "left": null,
            "margin": null,
            "max_height": null,
            "max_width": null,
            "min_height": null,
            "min_width": null,
            "object_fit": null,
            "object_position": null,
            "order": null,
            "overflow": null,
            "overflow_x": null,
            "overflow_y": null,
            "padding": null,
            "right": null,
            "top": null,
            "visibility": null,
            "width": null
          }
        },
        "fd747dd00ad747faaa1f500358cf2989": {
          "model_module": "@jupyter-widgets/controls",
          "model_name": "ProgressStyleModel",
          "model_module_version": "1.5.0",
          "state": {
            "_model_module": "@jupyter-widgets/controls",
            "_model_module_version": "1.5.0",
            "_model_name": "ProgressStyleModel",
            "_view_count": null,
            "_view_module": "@jupyter-widgets/base",
            "_view_module_version": "1.2.0",
            "_view_name": "StyleView",
            "bar_color": null,
            "description_width": ""
          }
        },
        "f059f24d52024f39be4f0676e5df8f0a": {
          "model_module": "@jupyter-widgets/base",
          "model_name": "LayoutModel",
          "model_module_version": "1.2.0",
          "state": {
            "_model_module": "@jupyter-widgets/base",
            "_model_module_version": "1.2.0",
            "_model_name": "LayoutModel",
            "_view_count": null,
            "_view_module": "@jupyter-widgets/base",
            "_view_module_version": "1.2.0",
            "_view_name": "LayoutView",
            "align_content": null,
            "align_items": null,
            "align_self": null,
            "border": null,
            "bottom": null,
            "display": null,
            "flex": null,
            "flex_flow": null,
            "grid_area": null,
            "grid_auto_columns": null,
            "grid_auto_flow": null,
            "grid_auto_rows": null,
            "grid_column": null,
            "grid_gap": null,
            "grid_row": null,
            "grid_template_areas": null,
            "grid_template_columns": null,
            "grid_template_rows": null,
            "height": null,
            "justify_content": null,
            "justify_items": null,
            "left": null,
            "margin": null,
            "max_height": null,
            "max_width": null,
            "min_height": null,
            "min_width": null,
            "object_fit": null,
            "object_position": null,
            "order": null,
            "overflow": null,
            "overflow_x": null,
            "overflow_y": null,
            "padding": null,
            "right": null,
            "top": null,
            "visibility": null,
            "width": null
          }
        },
        "0b32e7723a984c628fce8829bfab002a": {
          "model_module": "@jupyter-widgets/controls",
          "model_name": "DescriptionStyleModel",
          "model_module_version": "1.5.0",
          "state": {
            "_model_module": "@jupyter-widgets/controls",
            "_model_module_version": "1.5.0",
            "_model_name": "DescriptionStyleModel",
            "_view_count": null,
            "_view_module": "@jupyter-widgets/base",
            "_view_module_version": "1.2.0",
            "_view_name": "StyleView",
            "description_width": ""
          }
        }
      }
    }
  },
  "nbformat": 4,
  "nbformat_minor": 0
}